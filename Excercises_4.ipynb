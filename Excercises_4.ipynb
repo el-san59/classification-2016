{
 "cells": [
  {
   "cell_type": "code",
   "execution_count": 2,
   "metadata": {
    "collapsed": true
   },
   "outputs": [],
   "source": [
    "import lxml.html\n",
    "import requests"
   ]
  },
  {
   "cell_type": "code",
   "execution_count": 3,
   "metadata": {
    "collapsed": false
   },
   "outputs": [
    {
     "name": "stdout",
     "output_type": "stream",
     "text": [
      "3130\n",
      "['/tour/sib15', '/tour/sib14', '/tour/gvidon13', '/tour/okmar16', '/tour/ampers16', '/tour/bundes16', '/tour/lite16-2', '/tour/kubves15', '/tour/bryans15', '/tour/mifi15', '/tour/kursk16', '/tour/myunzo16', '/tour/stsvet16', '/tour/9krug16', '/tour/sevdeb16', '/tour/letuml16', '/tour/yuriev16', '/tour/21plus', '/tour/tezisy16', '/tour/kotr15-1']\n"
     ]
    }
   ],
   "source": [
    "add = 'http://db.chgk.info'\n",
    "links = []\n",
    "for i in range(38):\n",
    "    response = requests.get(add + '/last?page=' + str(i))\n",
    "    if response.status_code == 200:\n",
    "        tree = lxml.html.fromstring(response.text)\n",
    "        links += tree.xpath('//td/a[contains(@rel, \"nofollow\")]/@href')\n",
    "    else:\n",
    "        print(str(i) + ' ' + str(response.status_code))\n",
    "print(len(links))\n",
    "print(links[0:20])"
   ]
  },
  {
   "cell_type": "code",
   "execution_count": null,
   "metadata": {
    "collapsed": true
   },
   "outputs": [],
   "source": [
    "import json\n",
    "\n",
    "Qs_and_As = []\n",
    "Questions = []\n",
    "Answers = []\n",
    "for link in links:\n",
    "    response = requests.get(add + link)\n",
    "    if response.status_code == 200:\n",
    "        tree = lxml.html.fromstring(response.text)\n",
    "        Questions += tree.xpath('//div[@class=\"question\"]/p')\n",
    "        Answers += tree.xpath('//div/p[strong[@class=\"Answer\"]]')\n",
    "        for answer, question in zip(Answers, Questions):\n",
    "            answer = ''.join(answer.xpath('text()')).strip()\n",
    "            question = ''.join(question.xpath('text()')).strip()\n",
    "            Qs_and_As.append({'q': question, 'a': answer})\n",
    "    else:\n",
    "        print(link + ' ' + str(response.status_code))\n",
    "    Questions = []\n",
    "    Answers = []\n",
    "\n",
    "json.dump(Qs_and_As, open('bd_chgk.json', 'w', encoding=\"utf-8\"), indent=1)"
   ]
  },
  {
   "cell_type": "code",
   "execution_count": 8,
   "metadata": {
    "collapsed": false
   },
   "outputs": [
    {
     "name": "stdout",
     "output_type": "stream",
     "text": [
      "261820\n",
      "Рассказывают, что жакет \"спенсер\" был изобретен после того, как на одном\n",
      "светском приеме одетый во фрак лорд Спенсер застоялся около НЕГО.\n",
      "Декоративный ОН, сделанный из картонных коробок, по словам дизайнеров,\n",
      "придаст вашей квартире атмосферу новогоднего уюта. Назовите ЕГО.\n",
      "Камин.\n"
     ]
    }
   ],
   "source": [
    "import json\n",
    "\n",
    "with open('bd_chgk.json', 'r') as g:\n",
    "    data = json.JSONDecoder().decode(g.read())\n",
    "print(len(data))\n",
    "print(data[0]['q'])\n",
    "print(data[0]['a'])"
   ]
  },
  {
   "cell_type": "code",
   "execution_count": null,
   "metadata": {
    "collapsed": true
   },
   "outputs": [],
   "source": []
  }
 ],
 "metadata": {
  "kernelspec": {
   "display_name": "Python 3",
   "language": "python",
   "name": "python3"
  },
  "language_info": {
   "codemirror_mode": {
    "name": "ipython",
    "version": 3
   },
   "file_extension": ".py",
   "mimetype": "text/x-python",
   "name": "python",
   "nbconvert_exporter": "python",
   "pygments_lexer": "ipython3",
   "version": "3.5.2"
  }
 },
 "nbformat": 4,
 "nbformat_minor": 0
}
